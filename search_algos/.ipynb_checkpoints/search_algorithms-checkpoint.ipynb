{
 "cells": [
  {
   "cell_type": "markdown",
   "id": "04835f42",
   "metadata": {},
   "source": [
    "## 1. Linear Search\n",
    "Perform linear search to find target in arr\n",
    "\n",
    "Args:\n",
    "    arr: list of elements to search through\n",
    "    target: Element to search for\n",
    "\n",
    "Returns:\n",
    "    Index of the target if found, -1 Otherwise"
   ]
  },
  {
   "cell_type": "code",
   "execution_count": 1,
   "id": "3e941f92",
   "metadata": {},
   "outputs": [],
   "source": [
    "def linear_search(arr, target):\n",
    "    for i in range(len(arr)):\n",
    "        # check if current element matches target\n",
    "        if arr[i] == target:\n",
    "            return i\n",
    "    return -1"
   ]
  },
  {
   "cell_type": "code",
   "execution_count": 5,
   "id": "28d9dca9-2ae9-4fc5-8a90-d3363a7ae8ab",
   "metadata": {},
   "outputs": [
    {
     "name": "stdout",
     "output_type": "stream",
     "text": [
      "Array: [5, 1, 2, 9, 0, 10, 5, 6]\n",
      "Search for 10: Found at index 5\n",
      "Search for 7: Not found\n",
      "Search for 5: Found at index 0\n",
      "Search for 6: Found at index 7\n"
     ]
    }
   ],
   "source": [
    "if __name__ == \"__main__\":\n",
    "    # test array\n",
    "    test_array = [5, 1, 2, 9, 0, 10, 5, 6]\n",
    "\n",
    "    # Test cases\n",
    "    print(f\"Array: {test_array}\")\n",
    "    \n",
    "    # Case 1: Element exists in the array\n",
    "    target = 10\n",
    "    result = linear_search(test_array, target)\n",
    "    print(f\"Search for {target}: Found at index {result}\" if result != -1 \n",
    "          else f\"Search for {target}: Not found\")\n",
    "    \n",
    "    # Case 2: Element does not exist in the array\n",
    "    target = 7\n",
    "    result = linear_search(test_array, target)\n",
    "    print(f\"Search for {target}: Found at index {result}\" if result != -1 \n",
    "          else f\"Search for {target}: Not found\")\n",
    "    \n",
    "    # Case 3: First element\n",
    "    target = 5\n",
    "    result = linear_search(test_array, target)\n",
    "    print(f\"Search for {target}: Found at index {result}\" if result != -1 \n",
    "          else f\"Search for {target}: Not found\")\n",
    "    \n",
    "    # Case 4: Last element\n",
    "    target = 6\n",
    "    result = linear_search(test_array, target)\n",
    "    print(f\"Search for {target}: Found at index {result}\" if result != -1 \n",
    "          else f\"Search for {target}: Not found\")"
   ]
  },
  {
   "cell_type": "markdown",
   "id": "1b83f61c-7d8d-415b-8ecc-b79aa24880a0",
   "metadata": {},
   "source": [
    "## Binary Search:\n",
    "Binary search works only on sorted arrays, which is a key requirement for this algorithm to function correctly. "
   ]
  }
 ],
 "metadata": {
  "kernelspec": {
   "display_name": "Python [conda env:Roscoe]",
   "language": "python",
   "name": "conda-env-Roscoe-py"
  },
  "language_info": {
   "codemirror_mode": {
    "name": "ipython",
    "version": 3
   },
   "file_extension": ".py",
   "mimetype": "text/x-python",
   "name": "python",
   "nbconvert_exporter": "python",
   "pygments_lexer": "ipython3",
   "version": "3.12.9"
  }
 },
 "nbformat": 4,
 "nbformat_minor": 5
}
