{
 "cells": [
  {
   "cell_type": "markdown",
   "id": "04835f42",
   "metadata": {},
   "source": [
    "## 1. Linear Search\n",
    "Perform linear search to find target in arr\n",
    "\n",
    "Args:\n",
    "    arr: list of elements to search through\n",
    "    target: Element to search for\n",
    "\n",
    "Returns:\n",
    "    Index of the target if found, -1 Otherwise"
   ]
  },
  {
   "cell_type": "code",
   "execution_count": 1,
   "id": "3e941f92",
   "metadata": {},
   "outputs": [],
   "source": [
    "def linear_search(arr, target):\n",
    "    for i in range(len(arr)):\n",
    "        # check if current element matches target\n",
    "        if arr[i] == target:\n",
    "            return i\n",
    "    return -1"
   ]
  },
  {
   "cell_type": "code",
   "execution_count": 5,
   "id": "28d9dca9-2ae9-4fc5-8a90-d3363a7ae8ab",
   "metadata": {},
   "outputs": [
    {
     "name": "stdout",
     "output_type": "stream",
     "text": [
      "Array: [5, 1, 2, 9, 0, 10, 5, 6]\n",
      "Search for 10: Found at index 5\n",
      "Search for 7: Not found\n",
      "Search for 5: Found at index 0\n",
      "Search for 6: Found at index 7\n"
     ]
    }
   ],
   "source": [
    "if __name__ == \"__main__\":\n",
    "    # test array\n",
    "    test_array = [5, 1, 2, 9, 0, 10, 5, 6]\n",
    "\n",
    "    # Test cases\n",
    "    print(f\"Array: {test_array}\")\n",
    "    \n",
    "    # Case 1: Element exists in the array\n",
    "    target = 10\n",
    "    result = linear_search(test_array, target)\n",
    "    print(f\"Search for {target}: Found at index {result}\" if result != -1 \n",
    "          else f\"Search for {target}: Not found\")\n",
    "    \n",
    "    # Case 2: Element does not exist in the array\n",
    "    target = 7\n",
    "    result = linear_search(test_array, target)\n",
    "    print(f\"Search for {target}: Found at index {result}\" if result != -1 \n",
    "          else f\"Search for {target}: Not found\")\n",
    "    \n",
    "    # Case 3: First element\n",
    "    target = 5\n",
    "    result = linear_search(test_array, target)\n",
    "    print(f\"Search for {target}: Found at index {result}\" if result != -1 \n",
    "          else f\"Search for {target}: Not found\")\n",
    "    \n",
    "    # Case 4: Last element\n",
    "    target = 6\n",
    "    result = linear_search(test_array, target)\n",
    "    print(f\"Search for {target}: Found at index {result}\" if result != -1 \n",
    "          else f\"Search for {target}: Not found\")"
   ]
  },
  {
   "cell_type": "markdown",
   "id": "1b83f61c-7d8d-415b-8ecc-b79aa24880a0",
   "metadata": {},
   "source": [
    "## Binary Search:\n",
    "Binary search works only on sorted arrays, which is a key requirement for this algorithm to function correctly.\n",
    "\n",
    "Perform Binary search to find the target in a sorted array.\n",
    "\n",
    "Args:\n",
    "    arr:"
   ]
  },
  {
   "metadata": {
    "ExecuteTime": {
     "end_time": "2025-04-29T00:11:50.378156Z",
     "start_time": "2025-04-29T00:11:50.375816Z"
    }
   },
   "cell_type": "code",
   "source": [
    "def binary_search(arr, target):\n",
    "    \"\"\"\n",
    "    Perform binary search to find target in a sorted array.\n",
    "    :param arr:sorted list of elements to search through\n",
    "    :param target: element to search for\n",
    "    :return: Index of the target if found, -1 otherwise\n",
    "    \"\"\"\n",
    "    # initialize low and high pointers\n",
    "    low = 0\n",
    "    high = len(arr) - 1\n",
    "\n",
    "    while low <= high:\n",
    "        \"\"\"\n",
    "        Calculate middle index\n",
    "        Using (low+high)//2 can cause integer overflow in some languages\n",
    "        this approach is safer\n",
    "        \"\"\"\n",
    "        mid = low + (high-low) // 2\n",
    "\n",
    "        # found target\n",
    "        if arr[mid] == target:\n",
    "            return mid\n",
    "\n",
    "        # target is in the right half\n",
    "        elif arr[mid] < target:\n",
    "            low = mid + 1\n",
    "\n",
    "        # target is in the left half\n",
    "        else:\n",
    "            high = mid - 1\n",
    "\n",
    "    # target not found\n",
    "    return -1"
   ],
   "id": "d68327c1a695c8e",
   "outputs": [],
   "execution_count": 1
  },
  {
   "metadata": {
    "ExecuteTime": {
     "end_time": "2025-04-29T00:24:16.645622Z",
     "start_time": "2025-04-29T00:24:16.640908Z"
    }
   },
   "cell_type": "code",
   "source": [
    "# Recursive implementation\n",
    "\n",
    "def binary_search_recursive(arr, target, low=None, high=None):\n",
    "    \"\"\"\n",
    "    Perfom binary search recursively to find target in a sorted array.\n",
    "\n",
    "    :param arr: sorted list of elements to search through\n",
    "    :param target: element to search for\n",
    "    :param low: lower bound index (default = 0)\n",
    "    :param high: upper bound index (default = len(arr)-1)\n",
    "    :return: index of the target if found, -1 otherwise\n",
    "    \"\"\"\n",
    "    # initialize low and high for the first call\n",
    "    if low is None:\n",
    "        low = 0\n",
    "    if high is None:\n",
    "        high = len(arr)-1\n",
    "\n",
    "    # base case: element not found\n",
    "    if low > high:\n",
    "        return -1\n",
    "\n",
    "    # calculate middle index\n",
    "    mid = low + (high-low)//2\n",
    "\n",
    "    if arr[mid] == target:\n",
    "        return mid\n",
    "\n",
    "    # Recursive cases:\n",
    "    elif arr[mid] < target:\n",
    "        # search right half\n",
    "        return binary_search_recursive(arr, target, mid+1, high)\n",
    "    else:\n",
    "        return binary_search_recursive(arr, target, low, mid-1)"
   ],
   "id": "174a2d926ef00e7a",
   "outputs": [],
   "execution_count": 2
  },
  {
   "metadata": {
    "ExecuteTime": {
     "end_time": "2025-04-29T00:25:14.427264Z",
     "start_time": "2025-04-29T00:25:14.421560Z"
    }
   },
   "cell_type": "code",
   "source": [
    "if __name__ == \"__main__\":\n",
    "    test_array = [1,2,5,6,9,11,15,19,24]\n",
    "\n",
    "    print(f\"Sorted Array: {test_array}\")\n",
    "\n",
    "    # Case 1: Element exists in the array\n",
    "    target = 10\n",
    "    result = binary_search(test_array, target)\n",
    "    print(f\"Iterative search for {target}: Found at index {result}\" if result != -1\n",
    "          else f\"Iterative search for {target}: Not found\")\n",
    "\n",
    "    # Using recursive version\n",
    "    result_recursive = binary_search_recursive(test_array, target)\n",
    "    print(f\"Recursive search for {target}: Found at index {result_recursive}\" if result_recursive != -1\n",
    "          else f\"Recursive search for {target}: Not found\")\n",
    "\n",
    "    # Case 2: Element does not exist in the array\n",
    "    target = 7\n",
    "    result = binary_search(test_array, target)\n",
    "    print(f\"Iterative search for {target}: Found at index {result}\" if result != -1\n",
    "          else f\"Iterative search for {target}: Not found\")\n",
    "\n",
    "    # Case 3: First element\n",
    "    target = 1\n",
    "    result = binary_search(test_array, target)\n",
    "    print(f\"Iterative search for {target}: Found at index {result}\" if result != -1\n",
    "          else f\"Iterative search for {target}: Not found\")\n",
    "\n",
    "    # Case 4: Last element\n",
    "    target = 15\n",
    "    result = binary_search(test_array, target)\n",
    "    print(f\"Iterative search for {target}: Found at index {result}\" if result != -1\n",
    "          else f\"Iterative search for {target}: Not found\")"
   ],
   "id": "2b8c5087493269a",
   "outputs": [
    {
     "name": "stdout",
     "output_type": "stream",
     "text": [
      "Sorted Array: [1, 2, 5, 6, 9, 11, 15, 19, 24]\n",
      "Iterative search for 10: Not found\n",
      "Recursive search for 10: Not found\n",
      "Iterative search for 7: Not found\n",
      "Iterative search for 1: Found at index 0\n",
      "Iterative search for 15: Found at index 6\n"
     ]
    }
   ],
   "execution_count": 3
  },
  {
   "metadata": {},
   "cell_type": "markdown",
   "source": [
    "## Binary Search Problem Variants:\n",
    "### 1. Find the first occurrence of a Repeated Element"
   ],
   "id": "86da13b5c92f1a0f"
  },
  {
   "metadata": {},
   "cell_type": "code",
   "outputs": [],
   "execution_count": null,
   "source": [
    "def binary_search_first_occurrence(arr, target):\n",
    "    \"\"\"\n",
    "    Find the index of the first occurrence of target in a sorted array\n",
    "\n",
    "\n",
    "    :param arr:\n",
    "    :param target:\n",
    "    :return:\n",
    "    \"\"\""
   ],
   "id": "fd33168fe3a89619"
  }
 ],
 "metadata": {
  "kernelspec": {
   "display_name": "Python [conda env:Roscoe]",
   "language": "python",
   "name": "conda-env-Roscoe-py"
  },
  "language_info": {
   "codemirror_mode": {
    "name": "ipython",
    "version": 3
   },
   "file_extension": ".py",
   "mimetype": "text/x-python",
   "name": "python",
   "nbconvert_exporter": "python",
   "pygments_lexer": "ipython3",
   "version": "3.12.9"
  }
 },
 "nbformat": 4,
 "nbformat_minor": 5
}
