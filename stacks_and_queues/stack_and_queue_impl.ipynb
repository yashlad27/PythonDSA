{
 "cells": [
  {
   "metadata": {},
   "cell_type": "markdown",
   "source": [
    "# STACK:\n",
    "- LIFO (last in first out) data structure\n",
    "- used for function calls, undo mechanisms, expression evaluation\n",
    "- All operations (push, pop, peek) are O(1) time complexity\n",
    "\n",
    "# QUEUE:\n",
    "- FIFO (first in first out) data structure\n",
    "- First implementation has O(n) dequeue due to list.pop(0)\n",
    "- The efficient implementation using `collections.deque` provides O(1) for all operations."
   ],
   "id": "a21264a9d2589220"
  },
  {
   "cell_type": "code",
   "id": "initial_id",
   "metadata": {
    "collapsed": true,
    "ExecuteTime": {
     "end_time": "2025-04-23T12:51:11.342655Z",
     "start_time": "2025-04-23T12:51:11.339564Z"
    }
   },
   "source": [
    "class Stack:\n",
    "    \"\"\"A stack implementation using a python list\"\"\"\n",
    "    def __init__(self):\n",
    "        self.items = []\n",
    "\n",
    "    def push(self, item):\n",
    "        \"\"\"Add an item to the top of the stack\"\"\"\n",
    "        self.items.append(item)\n",
    "\n",
    "    def pop(self):\n",
    "        \"\"\"Remove and return the top item\"\"\"\n",
    "        if not self.is_empty():\n",
    "            return self.items.pop()\n",
    "        return None\n",
    "\n",
    "    def peek(self):\n",
    "        \"\"\"Return the top item without removing it\"\"\"\n",
    "        if not self.is_empty():\n",
    "            return self.items[-1]\n",
    "        return None\n",
    "\n",
    "    def is_empty(self):\n",
    "        \"\"\"Check if the stack is empty\"\"\"\n",
    "        return len(self.items) == 0\n",
    "\n",
    "    def size(self):\n",
    "        \"\"\"Return the number of items in the stack\"\"\"\n",
    "        return len(self.items)\n",
    "\n",
    "class Queue:\n",
    "    \"\"\"A queue implementation using a Python list\"\"\"\n",
    "    def __init__(self):\n",
    "        self.items = []\n",
    "\n",
    "    def enqueue(self, item):\n",
    "        \"\"\"Add an item to the end of the queue\"\"\"\n",
    "        self.items.append(item)\n",
    "\n",
    "    def dequeue(self):\n",
    "        \"\"\"Remove and return the front item\"\"\"\n",
    "        if not self.is_empty():\n",
    "            return self.items.pop(0)\n",
    "        return None\n",
    "\n",
    "    def peek(self):\n",
    "        \"\"\"Return the front item without removing it\"\"\"\n",
    "        if not self.is_empty():\n",
    "            return self.items[0]\n",
    "        return None\n",
    "\n",
    "    def is_empty(self):\n",
    "        \"\"\"Check if the queue is empty\"\"\"\n",
    "        return len(self.items) == 0\n",
    "\n",
    "    def size(self):\n",
    "        \"\"\"Return the number of items in the queue\"\"\"\n",
    "        return len(self.items)"
   ],
   "outputs": [],
   "execution_count": 1
  },
  {
   "metadata": {
    "ExecuteTime": {
     "end_time": "2025-04-23T12:53:30.149404Z",
     "start_time": "2025-04-23T12:53:30.146333Z"
    }
   },
   "cell_type": "code",
   "source": [
    "# stack example\n",
    "stack = Stack()\n",
    "\n",
    "print(\"Stack operations:\")\n",
    "stack.push(1)\n",
    "stack.push(2)\n",
    "stack.push(3)\n",
    "\n",
    "print(f\"Stack: {stack.items}\")\n",
    "print(f\"Pop: {stack.pop()}\")\n",
    "print(f\"Peek: {stack.peek()}\")\n",
    "print(f\"Size: {stack.size()}\")"
   ],
   "id": "bb9b8d09a502b161",
   "outputs": [
    {
     "name": "stdout",
     "output_type": "stream",
     "text": [
      "Stack operations:\n",
      "Stack: [1, 2, 3]\n",
      "Pop: 3\n",
      "Peek: 2\n",
      "Size: 2\n"
     ]
    }
   ],
   "execution_count": 2
  },
  {
   "metadata": {
    "ExecuteTime": {
     "end_time": "2025-04-23T12:55:54.872546Z",
     "start_time": "2025-04-23T12:55:54.868900Z"
    }
   },
   "cell_type": "code",
   "source": [
    "# Queue Example:\n",
    "queue = Queue()\n",
    "print(\"\\n Queue Operations\")\n",
    "queue.enqueue(\"a\")\n",
    "queue.enqueue(\"b\")\n",
    "queue.enqueue(\"c\")\n",
    "\n",
    "print(f\"Queue: {queue.items}\")\n",
    "print(f\"Dequeue: {queue.dequeue()}\")\n",
    "print(f\"Peek: {queue.peek()}\")\n",
    "print(f\"Size: {queue.size()}\")"
   ],
   "id": "611a08830308d77c",
   "outputs": [
    {
     "name": "stdout",
     "output_type": "stream",
     "text": [
      "\n",
      " Queue Operations\n",
      "Queue: ['a', 'b', 'c']\n",
      "Dequeue: a\n",
      "Peek: b\n",
      "Size: 2\n"
     ]
    }
   ],
   "execution_count": 3
  },
  {
   "metadata": {
    "ExecuteTime": {
     "end_time": "2025-04-23T13:03:50.967718Z",
     "start_time": "2025-04-23T13:03:50.963025Z"
    }
   },
   "cell_type": "code",
   "source": [
    "# More efficient Queue implementation using Collections.deque\n",
    "from collections import deque\n",
    "\n",
    "class EfficientQueue:\n",
    "\n",
    "    def __init__(self):\n",
    "        self.items = deque()\n",
    "\n",
    "    def enqueue(self, item):\n",
    "        self.items.append(item)\n",
    "\n",
    "    def dequeue(self):\n",
    "        if not self.is_empty():\n",
    "            return self.items.popleft()   # O(1) operation\n",
    "        return None\n",
    "\n",
    "    def peek(self):\n",
    "        if not self.is_empty():\n",
    "            return self.items[0]\n",
    "        return None\n",
    "\n",
    "    def is_empty(self):\n",
    "        return len(self.items) == 0\n",
    "\n",
    "    def size(self):\n",
    "        return len(self.items)"
   ],
   "id": "8f28c34ff7734d6f",
   "outputs": [],
   "execution_count": 4
  },
  {
   "metadata": {
    "ExecuteTime": {
     "end_time": "2025-04-23T13:05:13.276188Z",
     "start_time": "2025-04-23T13:05:13.267931Z"
    }
   },
   "cell_type": "code",
   "source": [
    "# efficient queue example:\n",
    "efficient_queue = EfficientQueue()\n",
    "print(\"\\n Efficient Queue Operations:\")\n",
    "\n",
    "efficient_queue.enqueue(\"A\")\n",
    "efficient_queue.enqueue(\"B\")\n",
    "efficient_queue.enqueue(\"C\")\n",
    "\n",
    "print(f\"Queue: {list(efficient_queue.items)}\")\n",
    "print(f\"Dequeue: {efficient_queue.dequeue()}\")\n",
    "print(f\"Peek: {efficient_queue.peek()}\")\n",
    "print(f\"Size: {efficient_queue.size()}\")"
   ],
   "id": "9971585c0cdd7adb",
   "outputs": [
    {
     "name": "stdout",
     "output_type": "stream",
     "text": [
      "\n",
      " Efficient Queue Operations:\n",
      "Queue: ['A', 'B', 'C']\n",
      "Dequeue: A\n",
      "Peek: B\n",
      "Size: 2\n"
     ]
    }
   ],
   "execution_count": 5
  },
  {
   "metadata": {},
   "cell_type": "code",
   "outputs": [],
   "execution_count": null,
   "source": "",
   "id": "757cc66b85ca1795"
  }
 ],
 "metadata": {
  "kernelspec": {
   "display_name": "Python 3",
   "language": "python",
   "name": "python3"
  },
  "language_info": {
   "codemirror_mode": {
    "name": "ipython",
    "version": 2
   },
   "file_extension": ".py",
   "mimetype": "text/x-python",
   "name": "python",
   "nbconvert_exporter": "python",
   "pygments_lexer": "ipython2",
   "version": "2.7.6"
  }
 },
 "nbformat": 4,
 "nbformat_minor": 5
}
