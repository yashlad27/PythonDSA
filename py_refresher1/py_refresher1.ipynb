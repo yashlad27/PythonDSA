{
 "cells": [
  {
   "metadata": {},
   "cell_type": "markdown",
   "source": [
    "### 1. Lambda - Anonymous Function\n",
    "1. What is it?\n",
    "A lambda function lets you write small anonymous functions inline, usually for one time use\n",
    "2. Syntax:\n",
    "`lambda` arguments: expression"
   ],
   "id": "17639d0697bd3f21"
  },
  {
   "cell_type": "code",
   "id": "initial_id",
   "metadata": {
    "collapsed": true,
    "ExecuteTime": {
     "end_time": "2025-04-30T15:18:49.337556Z",
     "start_time": "2025-04-30T15:18:49.334318Z"
    }
   },
   "source": [
    "square = lambda x : x * x\n",
    "print(square(5))\n",
    "\n",
    "add = lambda x,y: x+y\n",
    "print(add(3, 4))"
   ],
   "outputs": [
    {
     "name": "stdout",
     "output_type": "stream",
     "text": [
      "25\n",
      "7\n"
     ]
    }
   ],
   "execution_count": 2
  },
  {
   "metadata": {
    "ExecuteTime": {
     "end_time": "2025-04-30T15:27:13.649339Z",
     "start_time": "2025-04-30T15:27:13.641303Z"
    }
   },
   "cell_type": "code",
   "source": [
    "# sorting by last name:\n",
    "names = ['John Doe', 'Jane Smith', 'Alice Johnson']\n",
    "names.sort(key = lambda name:name.split()[-1])\n",
    "print(names)"
   ],
   "id": "fae53d3f0d04eec2",
   "outputs": [
    {
     "name": "stdout",
     "output_type": "stream",
     "text": [
      "['John Doe', 'Alice Johnson', 'Jane Smith']\n"
     ]
    }
   ],
   "execution_count": 3
  },
  {
   "metadata": {},
   "cell_type": "markdown",
   "source": [
    "### 2. zip() - Combines iterables\n",
    "- zip pairs elements from multiple iterables into tuples"
   ],
   "id": "410dc4face20f6f0"
  },
  {
   "metadata": {
    "ExecuteTime": {
     "end_time": "2025-04-30T15:36:38.202656Z",
     "start_time": "2025-04-30T15:36:38.199182Z"
    }
   },
   "cell_type": "code",
   "source": [
    "a = [1,2,3]\n",
    "b = ['a', 'b', 'c']\n",
    "\n",
    "zipped = list(zip(a,b))\n",
    "zipped"
   ],
   "id": "6b8f6661f2929c32",
   "outputs": [
    {
     "data": {
      "text/plain": [
       "[(1, 'a'), (2, 'b'), (3, 'c')]"
      ]
     },
     "execution_count": 4,
     "metadata": {},
     "output_type": "execute_result"
    }
   ],
   "execution_count": 4
  },
  {
   "metadata": {
    "ExecuteTime": {
     "end_time": "2025-04-30T15:37:10.030946Z",
     "start_time": "2025-04-30T15:37:10.028923Z"
    }
   },
   "cell_type": "code",
   "source": [
    "x, y = zip(*zipped)\n",
    "print(x)\n",
    "print(y)"
   ],
   "id": "fcb663b1cb6eb03d",
   "outputs": [
    {
     "name": "stdout",
     "output_type": "stream",
     "text": [
      "(1, 2, 3)\n",
      "('a', 'b', 'c')\n"
     ]
    }
   ],
   "execution_count": 6
  },
  {
   "metadata": {},
   "cell_type": "markdown",
   "source": [
    "### 3. map() - apply function to iterable\n",
    "`map(func, iterable)` applies `func` to each element of the iterable"
   ],
   "id": "1accbe246f3c84da"
  },
  {
   "metadata": {
    "ExecuteTime": {
     "end_time": "2025-04-30T15:39:41.483092Z",
     "start_time": "2025-04-30T15:39:41.478560Z"
    }
   },
   "cell_type": "code",
   "source": [
    "nums = [1,2,3,4]\n",
    "squares = list(map(lambda x: x ** 2, nums))\n",
    "print(squares)"
   ],
   "id": "a37f37d72065fdec",
   "outputs": [
    {
     "name": "stdout",
     "output_type": "stream",
     "text": [
      "[1, 4, 9, 16]\n"
     ]
    }
   ],
   "execution_count": 7
  },
  {
   "metadata": {},
   "cell_type": "markdown",
   "source": [
    "### 4. sort() with key\n",
    "custom sort logic by specifying a function with the key=argument"
   ],
   "id": "dcb5d49d33b94735"
  },
  {
   "metadata": {
    "ExecuteTime": {
     "end_time": "2025-04-30T15:59:09.501907Z",
     "start_time": "2025-04-30T15:59:09.498694Z"
    }
   },
   "cell_type": "code",
   "source": [
    "words = ['apple', 'banana', 'kiwi']\n",
    "words.sort(key=len)"
   ],
   "id": "406b53d5e4847fd3",
   "outputs": [],
   "execution_count": 8
  },
  {
   "metadata": {
    "ExecuteTime": {
     "end_time": "2025-04-30T15:59:13.726954Z",
     "start_time": "2025-04-30T15:59:13.723924Z"
    }
   },
   "cell_type": "code",
   "source": "words",
   "id": "8aa39b9340f8e41a",
   "outputs": [
    {
     "data": {
      "text/plain": [
       "['kiwi', 'apple', 'banana']"
      ]
     },
     "execution_count": 9,
     "metadata": {},
     "output_type": "execute_result"
    }
   ],
   "execution_count": 9
  },
  {
   "metadata": {
    "ExecuteTime": {
     "end_time": "2025-04-30T16:00:11.696677Z",
     "start_time": "2025-04-30T16:00:11.693774Z"
    }
   },
   "cell_type": "code",
   "source": [
    "pairs = [(1,3), (4,1), (2,2)]\n",
    "pairs.sort(key=lambda x:x[1]) #sort by second item\n",
    "pairs"
   ],
   "id": "322c2e1046f448c",
   "outputs": [
    {
     "data": {
      "text/plain": [
       "[(4, 1), (2, 2), (1, 3)]"
      ]
     },
     "execution_count": 10,
     "metadata": {},
     "output_type": "execute_result"
    }
   ],
   "execution_count": 10
  },
  {
   "metadata": {},
   "cell_type": "code",
   "outputs": [],
   "execution_count": null,
   "source": "",
   "id": "c5f8ef2cd5a18d20"
  }
 ],
 "metadata": {
  "kernelspec": {
   "display_name": "Python 3",
   "language": "python",
   "name": "python3"
  },
  "language_info": {
   "codemirror_mode": {
    "name": "ipython",
    "version": 2
   },
   "file_extension": ".py",
   "mimetype": "text/x-python",
   "name": "python",
   "nbconvert_exporter": "python",
   "pygments_lexer": "ipython2",
   "version": "2.7.6"
  }
 },
 "nbformat": 4,
 "nbformat_minor": 5
}
