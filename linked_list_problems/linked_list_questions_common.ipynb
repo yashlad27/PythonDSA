{
 "cells": [
  {
   "metadata": {},
   "cell_type": "markdown",
   "source": [
    "# PROBLEM 1 : REVERSE A LINKED LIST\n",
    "given the head of a singly linked list, reverse the list and return the new head"
   ],
   "id": "73fbf3c1473a4099"
  },
  {
   "metadata": {},
   "cell_type": "markdown",
   "source": "### 1. Define the node class",
   "id": "2f5026f3afeb2cfa"
  },
  {
   "cell_type": "code",
   "id": "initial_id",
   "metadata": {
    "collapsed": true,
    "ExecuteTime": {
     "end_time": "2025-04-21T18:55:54.243341Z",
     "start_time": "2025-04-21T18:55:54.239921Z"
    }
   },
   "source": [
    "class Node:\n",
    "    def __init__(self, data):\n",
    "        self.data = data\n",
    "        self.next = None"
   ],
   "outputs": [],
   "execution_count": 1
  },
  {
   "metadata": {},
   "cell_type": "markdown",
   "source": [
    "### 2. Create a linked list from a python list\n",
    "\n",
    "Write a function that:\n",
    "1. takes a list of values\n",
    "2. creates Node objects for each\n",
    "3. Links them using .next\n",
    "4. Returns the head of the linked list"
   ],
   "id": "27d08c04b226c7e8"
  },
  {
   "metadata": {
    "ExecuteTime": {
     "end_time": "2025-04-21T18:59:08.236500Z",
     "start_time": "2025-04-21T18:59:08.232555Z"
    }
   },
   "cell_type": "code",
   "source": [
    "def create_linked_list(arr):\n",
    "    if not arr:\n",
    "        return None\n",
    "    head = Node(arr[0])\n",
    "    current = head\n",
    "\n",
    "    for val in arr[1:]:\n",
    "        current.next = Node(val)\n",
    "        current = current.next\n",
    "    return head"
   ],
   "id": "626be4df5e0443d7",
   "outputs": [],
   "execution_count": 2
  },
  {
   "metadata": {},
   "cell_type": "markdown",
   "source": [
    "### 3. Print the Linked list\n",
    "Write a function print_list(head) that:\n",
    "1. takes the head of the list\n",
    "2. walks through the nodes\n",
    "3. collects the values\n",
    "4. prints or returns them as a python list"
   ],
   "id": "2248c7a400f72ecf"
  },
  {
   "metadata": {
    "ExecuteTime": {
     "end_time": "2025-04-21T19:04:12.882491Z",
     "start_time": "2025-04-21T19:04:12.878203Z"
    }
   },
   "cell_type": "code",
   "source": [
    "def print_list(head):\n",
    "    result = []\n",
    "    current = head\n",
    "    while current:\n",
    "        result.append(current.data)\n",
    "        current = current.next\n",
    "    return result"
   ],
   "id": "f2702b546122196b",
   "outputs": [],
   "execution_count": 4
  },
  {
   "metadata": {
    "ExecuteTime": {
     "end_time": "2025-04-21T19:04:24.005932Z",
     "start_time": "2025-04-21T19:04:24.002600Z"
    }
   },
   "cell_type": "code",
   "source": [
    "head = create_linked_list([1,2,3,4])\n",
    "print(print_list(head))"
   ],
   "id": "fb6d40b67cc372be",
   "outputs": [
    {
     "name": "stdout",
     "output_type": "stream",
     "text": [
      "[1, 2, 3, 4]\n"
     ]
    }
   ],
   "execution_count": 6
  },
  {
   "metadata": {},
   "cell_type": "markdown",
   "source": [
    "### 4. Reverse the Linked List\n",
    "\n",
    "Goal: 1->2->3->4->None into 4->3->2->1->None\n",
    "\n",
    "Logic:\n",
    "we will use three pointers:\n",
    "1. `prev` (starts as `None`)\n",
    "2. `current` (starts as `head`)\n",
    "3. next_node (stores current.next before we change it)\n",
    "\n",
    "and for each node:\n",
    "1. save the next node\n",
    "2. reverse the .next pointer\n",
    "3. move `prev` and `current` one step forward"
   ],
   "id": "8518d5d42c256914"
  },
  {
   "metadata": {
    "ExecuteTime": {
     "end_time": "2025-04-21T19:14:29.434140Z",
     "start_time": "2025-04-21T19:14:29.430685Z"
    }
   },
   "cell_type": "code",
   "source": [
    "def reverse_linked_list(head):\n",
    "    prev = None\n",
    "    current = head\n",
    "\n",
    "    while current:\n",
    "        # step:1 store next node\n",
    "        next_node = current.next\n",
    "        # step:2 reverse pointer\n",
    "        current.next = prev\n",
    "        # step:3 move to next node\n",
    "        prev = current      # move prev\n",
    "        current = next_node  # move current\n",
    "\n",
    "    return prev         # new head"
   ],
   "id": "54eb00ba3b11ba75",
   "outputs": [],
   "execution_count": 7
  },
  {
   "metadata": {
    "ExecuteTime": {
     "end_time": "2025-04-21T19:14:59.607669Z",
     "start_time": "2025-04-21T19:14:59.602823Z"
    }
   },
   "cell_type": "code",
   "source": [
    "head = create_linked_list([1,2,3,4,5,6,7,8,9])\n",
    "\n",
    "reversed_head = reverse_linked_list(head)\n",
    "\n",
    "print(print_list(reversed_head))"
   ],
   "id": "64789897531e494a",
   "outputs": [
    {
     "name": "stdout",
     "output_type": "stream",
     "text": [
      "[9, 8, 7, 6, 5, 4, 3, 2, 1]\n"
     ]
    }
   ],
   "execution_count": 8
  },
  {
   "metadata": {},
   "cell_type": "markdown",
   "source": [
    "# PROBLEM 2 - Detecting a Cycle in a Linked List\n",
    "\n",
    "Goal: Implement a function that checks a cycle in a linked list, returns True if there's a cycle otherwise False\n",
    "\n",
    "## Algorithm: Floyd's Cycle Detection (Tortoise and Hare).\n",
    "use two pointers:\n",
    "- `slow` moves 1 step\n",
    "- `fast` moves 2 steps\n",
    "\n",
    "if there is a cycle, they will eventually meet.\n",
    "if not, `fast` will hit the end (None).\n"
   ],
   "id": "ef751390c53169f5"
  },
  {
   "metadata": {},
   "cell_type": "markdown",
   "source": "### Step 1 - Function skeleton and initialise the two pointers",
   "id": "1f49ec12b7987ab"
  },
  {
   "metadata": {
    "ExecuteTime": {
     "end_time": "2025-04-21T21:04:27.088973Z",
     "start_time": "2025-04-21T21:04:27.078396Z"
    }
   },
   "cell_type": "code",
   "source": [
    "def has_cycle(head):\n",
    "    slow = head\n",
    "    fast = head\n",
    "\n",
    "    while fast and fast.next:\n",
    "        slow = slow.next                    # moves 1 step\n",
    "        fast = fast.next.next               # moves 2 steps\n",
    "\n",
    "        if slow == fast:                    # cycle detected\n",
    "            return True\n",
    "    return False                            # no cycle"
   ],
   "id": "86f52b29fdae0338",
   "outputs": [],
   "execution_count": 12
  },
  {
   "metadata": {},
   "cell_type": "markdown",
   "source": "Test case 1: List without a cycle",
   "id": "dfe66967c2e228ac"
  },
  {
   "metadata": {
    "ExecuteTime": {
     "end_time": "2025-04-21T21:10:41.665399Z",
     "start_time": "2025-04-21T21:10:41.661761Z"
    }
   },
   "cell_type": "code",
   "source": [
    "head = Node(1)\n",
    "head.next = Node(2)\n",
    "head.next.next = Node(3)\n",
    "head.next.next.next = Node(4)\n",
    "\n",
    "print(has_cycle(head))\n",
    "print(print_list(head))"
   ],
   "id": "9a0cf350d9fff928",
   "outputs": [
    {
     "name": "stdout",
     "output_type": "stream",
     "text": [
      "False\n",
      "[1, 2, 3, 4]\n"
     ]
    }
   ],
   "execution_count": 16
  },
  {
   "metadata": {},
   "cell_type": "markdown",
   "source": "Test case 2: List with a cycle",
   "id": "5c01e546df785b0b"
  },
  {
   "metadata": {
    "ExecuteTime": {
     "end_time": "2025-04-21T21:09:49.260901Z",
     "start_time": "2025-04-21T21:09:49.256365Z"
    }
   },
   "cell_type": "code",
   "source": [
    "head = Node(1)\n",
    "second = Node(2)\n",
    "third = Node(3)\n",
    "fourth = Node(4)\n",
    "\n",
    "head.next = second\n",
    "second.next = third\n",
    "third.next = fourth\n",
    "fourth.next = second # creates a cycle!\n",
    "\n",
    "print(has_cycle(head))"
   ],
   "id": "b98e560f7c03f9f1",
   "outputs": [
    {
     "name": "stdout",
     "output_type": "stream",
     "text": [
      "True\n"
     ]
    }
   ],
   "execution_count": 14
  },
  {
   "metadata": {},
   "cell_type": "markdown",
   "source": [
    "# Problem 3 : Find the Middle Node\n",
    "\n",
    "Problem stmt: Given the head of a singly linked list, return the middle node.If there are two middle nodes (even length), return the second one.\n",
    "\n",
    "\n",
    "- Algorithm:\n",
    "Uses the slow & fast pointer trick:\n",
    "- `slow` moves 1 step\n",
    "- `fast` moves 2 steps\n",
    "- when fast reached the end, slow will be at the middle"
   ],
   "id": "261e334c617a91e6"
  },
  {
   "metadata": {
    "ExecuteTime": {
     "end_time": "2025-04-21T21:29:02.659958Z",
     "start_time": "2025-04-21T21:29:02.656576Z"
    }
   },
   "cell_type": "code",
   "source": [
    "def find_middle(head):\n",
    "    slow = head\n",
    "    fast = head\n",
    "\n",
    "    while fast and fast.next:\n",
    "        slow = slow.next\n",
    "        fast = fast.next.next\n",
    "\n",
    "    return slow"
   ],
   "id": "766615f9b2c2d7f5",
   "outputs": [],
   "execution_count": 17
  },
  {
   "metadata": {
    "ExecuteTime": {
     "end_time": "2025-04-21T21:29:43.111788Z",
     "start_time": "2025-04-21T21:29:43.107964Z"
    }
   },
   "cell_type": "code",
   "source": [
    "head = create_linked_list([1,2,3,4,5,6,7,8,9])\n",
    "print(find_middle(head).data)\n",
    "\n",
    "head = create_linked_list([1,2,3,4,5,6,7,8])\n",
    "print(find_middle(head).data)"
   ],
   "id": "caf3835a04a09bb3",
   "outputs": [
    {
     "name": "stdout",
     "output_type": "stream",
     "text": [
      "5\n",
      "5\n"
     ]
    }
   ],
   "execution_count": 18
  },
  {
   "metadata": {},
   "cell_type": "markdown",
   "source": [
    "# Problem 4: Merge Two Sorted Linked Lists\n",
    "you are given two sorted linked lists, and you need to merge them into one sorted list.\n",
    "\n",
    "- List A: 1 -> 3 -> 5\n",
    "- List B: 2 -> 4 -> 6\n",
    "\n",
    "Merged: 1 -> 2 -> 3 -> 4 -> 5 -> 6"
   ],
   "id": "cdbc49d6a570c805"
  },
  {
   "metadata": {},
   "cell_type": "markdown",
   "source": "this sets up a dummy head node so we can append nodes easily to the result",
   "id": "8f54fcb2020d4dca"
  },
  {
   "metadata": {
    "ExecuteTime": {
     "end_time": "2025-04-21T22:02:31.382292Z",
     "start_time": "2025-04-21T22:02:31.373646Z"
    }
   },
   "cell_type": "code",
   "source": [
    "def merge_sorted_list(L1, L2):\n",
    "    dummy = Node(0)\n",
    "    tail = dummy\n",
    "\n",
    "    while L1 and L2:\n",
    "        if L1.data < L2.data:\n",
    "            tail.next = L1\n",
    "            L1 = L1.next\n",
    "        else:\n",
    "            tail.next = L2\n",
    "            L2 = L2.next\n",
    "        tail = tail.next\n",
    "\n",
    "    tail.next = L1 or L2\n",
    "    return dummy.next"
   ],
   "id": "a4393a8ee0db5aaf",
   "outputs": [],
   "execution_count": 19
  },
  {
   "metadata": {
    "ExecuteTime": {
     "end_time": "2025-04-21T22:03:11.898170Z",
     "start_time": "2025-04-21T22:03:11.892873Z"
    }
   },
   "cell_type": "code",
   "source": [
    "L1 = create_linked_list([1,3,5])\n",
    "L2 = create_linked_list([2,4,6])\n",
    "\n",
    "merged = merge_sorted_list(L1, L2)\n",
    "\n",
    "print(print_list(merged))"
   ],
   "id": "9c408e97779a971d",
   "outputs": [
    {
     "name": "stdout",
     "output_type": "stream",
     "text": [
      "[1, 2, 3, 4, 5, 6]\n"
     ]
    }
   ],
   "execution_count": 20
  },
  {
   "metadata": {},
   "cell_type": "markdown",
   "source": [
    "# Problem 5: Remove Duplicates from a Sorted Linked List\n",
    "\n",
    "Problem Statement: Given the head of a sorted linked list, remove all duplicates so that each value appears only once. Return the head of the updates list.\n",
    "\n",
    "\n",
    "- Input: 1-1-2-3-3-4-4-4-5\n",
    "- Output: 1-2-3-4-5"
   ],
   "id": "802127660ba53176"
  },
  {
   "metadata": {
    "ExecuteTime": {
     "end_time": "2025-04-21T22:43:01.243426Z",
     "start_time": "2025-04-21T22:43:01.237783Z"
    }
   },
   "cell_type": "code",
   "source": [
    "def remove_duplicates(head):\n",
    "    current = head\n",
    "\n",
    "    while current and current.next:\n",
    "        if current.data == current.next.data:\n",
    "            # skip the duplicate node\n",
    "            current.next = current.next.next\n",
    "        else:\n",
    "            # Move to next node\n",
    "            current = current.next\n",
    "    return head"
   ],
   "id": "28e98d1c1fa03ea3",
   "outputs": [],
   "execution_count": 21
  },
  {
   "metadata": {
    "ExecuteTime": {
     "end_time": "2025-04-21T22:43:47.870633Z",
     "start_time": "2025-04-21T22:43:47.867421Z"
    }
   },
   "cell_type": "code",
   "source": [
    "head = create_linked_list([1,1,2,3,3,3,4,4,5,6,6,7])\n",
    "\n",
    "updated = remove_duplicates(head)\n",
    "\n",
    "print(print_list(updated))"
   ],
   "id": "d48251c01e5112d9",
   "outputs": [
    {
     "name": "stdout",
     "output_type": "stream",
     "text": [
      "[1, 2, 3, 4, 5, 6, 7]\n"
     ]
    }
   ],
   "execution_count": 22
  },
  {
   "metadata": {},
   "cell_type": "markdown",
   "source": [
    "# Beginner Problems:\n",
    "\t1.\tAppend to a linked list\n",
    "\t2.\tPrepend to a linked list\n",
    "\t3.\tDelete a node by value\n",
    "\t4.\tFind length of a list\n",
    "\t5.\tPrint all elements (Traversal)\n",
    "\t6.\tSearch for a value\n",
    "\t7.\tReverse a list\n",
    "\t8.\tFind the middle node\n",
    "\t9.\tCount total nodes"
   ],
   "id": "9fe0744b0b5732b3"
  },
  {
   "metadata": {
    "ExecuteTime": {
     "end_time": "2025-04-22T17:03:47.880Z",
     "start_time": "2025-04-22T17:03:47.874998Z"
    }
   },
   "cell_type": "code",
   "source": [
    "# 1. Append to a Linked List\n",
    "def append_LL(head, data):\n",
    "    new_node = Node(data)\n",
    "    if head is None:\n",
    "        return new_node\n",
    "\n",
    "    current = head\n",
    "    while current.next is not None:\n",
    "        current = current.next\n",
    "    current.next = new_node\n",
    "    return head\n",
    "\n",
    "head = None\n",
    "head = append_LL(head, 1)\n",
    "head = append_LL(head, 2)\n",
    "head = append_LL(head, 3)\n",
    "print(print_list(head))"
   ],
   "id": "576c95c7ab65f8be",
   "outputs": [
    {
     "name": "stdout",
     "output_type": "stream",
     "text": [
      "[1, 2, 3]\n"
     ]
    }
   ],
   "execution_count": 24
  },
  {
   "metadata": {
    "ExecuteTime": {
     "end_time": "2025-04-22T17:18:29.845904Z",
     "start_time": "2025-04-22T17:18:29.842079Z"
    }
   },
   "cell_type": "code",
   "source": [
    "# 2. Prepend to a Linked List\n",
    "def prepend_LL(head, data):\n",
    "    new_node = Node(data)\n",
    "    new_node.next = head\n",
    "    return new_node\n",
    "\n",
    "head = prepend_LL(head, 0)\n",
    "print(print_list(head))  # Expected: [0, 1, 2, 3]"
   ],
   "id": "f69448511b15333f",
   "outputs": [
    {
     "name": "stdout",
     "output_type": "stream",
     "text": [
      "[0, 1, 2, 3]\n"
     ]
    }
   ],
   "execution_count": 26
  },
  {
   "metadata": {
    "ExecuteTime": {
     "end_time": "2025-04-22T17:39:32.471519Z",
     "start_time": "2025-04-22T17:39:32.462961Z"
    }
   },
   "cell_type": "code",
   "source": [
    "# 3. Delete a node by value:\n",
    "def delete_node(head, target):\n",
    "    if head is None:\n",
    "        return None\n",
    "    if head.data == target:\n",
    "        return head.next\n",
    "\n",
    "    current = head\n",
    "    while current.next is not None:\n",
    "        if current.next.data == target:\n",
    "            current.next = current.next.next\n",
    "            break\n",
    "        current = current.next\n",
    "    return head\n",
    "\n",
    "head = delete_node(head, 2)\n",
    "print(print_list(head))"
   ],
   "id": "8aa721166ea3b3a8",
   "outputs": [
    {
     "name": "stdout",
     "output_type": "stream",
     "text": [
      "[0, 1, 3]\n"
     ]
    }
   ],
   "execution_count": 27
  },
  {
   "metadata": {
    "ExecuteTime": {
     "end_time": "2025-04-22T18:28:27.544410Z",
     "start_time": "2025-04-22T18:28:27.539897Z"
    }
   },
   "cell_type": "code",
   "source": [
    "# 4. Find the length of a Linked List:\n",
    "def length_of_LL(head):\n",
    "    count = 0\n",
    "    current = head\n",
    "\n",
    "    while current is not None:\n",
    "        count += 1\n",
    "        current = current.next\n",
    "    return count\n",
    "\n",
    "head = create_linked_list([10, 20, 30, 40])\n",
    "print(length_of_LL(head))"
   ],
   "id": "1903da8db93b0eaa",
   "outputs": [
    {
     "name": "stdout",
     "output_type": "stream",
     "text": [
      "4\n"
     ]
    }
   ],
   "execution_count": 30
  },
  {
   "metadata": {},
   "cell_type": "code",
   "outputs": [],
   "execution_count": null,
   "source": "# 5. Print elements of a Linked List",
   "id": "14c5b6bd5d6350c3"
  }
 ],
 "metadata": {
  "kernelspec": {
   "display_name": "Python 3",
   "language": "python",
   "name": "python3"
  },
  "language_info": {
   "codemirror_mode": {
    "name": "ipython",
    "version": 2
   },
   "file_extension": ".py",
   "mimetype": "text/x-python",
   "name": "python",
   "nbconvert_exporter": "python",
   "pygments_lexer": "ipython2",
   "version": "2.7.6"
  }
 },
 "nbformat": 4,
 "nbformat_minor": 5
}
