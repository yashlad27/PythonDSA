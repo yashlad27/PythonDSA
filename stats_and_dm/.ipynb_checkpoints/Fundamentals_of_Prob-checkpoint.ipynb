{
 "cells": [
  {
   "cell_type": "markdown",
   "id": "337b7daa72292a0c",
   "metadata": {},
   "source": [
    "# Part 1 Descriptive Statistics\n",
    "## 1.1 Measures of Central Tendency\n",
    "1. Mean: the average of all values in a dataset, calculated by summing all values and dividing by the count.\n",
    "2. Median: The middle value when data is arranged in order, less sensitive to outliers than the mean.\n",
    "3. Mode: the most frequently occurring value(s) in a dataset."
   ]
  },
  {
   "cell_type": "code",
   "execution_count": 3,
   "id": "initial_id",
   "metadata": {
    "ExecuteTime": {
     "end_time": "2025-04-19T18:48:17.065952Z",
     "start_time": "2025-04-19T18:48:17.060028Z"
    }
   },
   "outputs": [
    {
     "name": "stdout",
     "output_type": "stream",
     "text": [
      "Data: [13, 12, 28, 47, 25, 15, 10, 30, 22, 31, 32, 37, 39, 27, 23]\n",
      "Mean: 26.066666666666666\n",
      "Median: 27.0\n",
      "Mode: 10\n"
     ]
    }
   ],
   "source": [
    "import numpy as np\n",
    "import random\n",
    "import matplotlib.pyplot as plt\n",
    "import seaborn as sns\n",
    "from scipy import stats\n",
    "\n",
    "data = random.sample(range(1, 50), 15) # 15 random integers between 1 and 50\n",
    "\n",
    "mean_value = np.mean(data)\n",
    "median_value = np.median(data)\n",
    "mode_value = stats.mode(data, keepdims=True)[0][0]\n",
    "\n",
    "print(f\"Data: {data}\")\n",
    "print(f\"Mean: {mean_value}\")\n",
    "print(f\"Median: {median_value}\")\n",
    "print(f\"Mode: {mode_value}\")"
   ]
  },
  {
   "cell_type": "code",
   "execution_count": 1,
   "id": "7b8702f40081df6b",
   "metadata": {},
   "outputs": [
    {
     "ename": "SyntaxError",
     "evalue": "unmatched ')' (1627274089.py, line 7)",
     "output_type": "error",
     "traceback": [
      "  \u001b[36mCell\u001b[39m\u001b[36m \u001b[39m\u001b[32mIn[1]\u001b[39m\u001b[32m, line 7\u001b[39m\n\u001b[31m    \u001b[39m\u001b[31mplt.axvline(mode_value, color='blue', linestyle=':', linewidth=2, label=f'Mode: {mode_value}'))\u001b[39m\n                                                                                                  ^\n\u001b[31mSyntaxError\u001b[39m\u001b[31m:\u001b[39m unmatched ')'\n"
     ]
    }
   ],
   "source": [
    "#Visualization:\n",
    "plt.figure(figuresize=(10,6))\n",
    "sns.histplot(data, bins=8, kde=True)\n",
    "\n",
    "plt.axvline(mean_value, color='red', linestyle=\"--\", linewidth=2, label=f'Mean: {mean_value:.1f}')\n",
    "plt.axvline(median_value, color='green', linestyle=\"-.\", linewidth=2, label=f'Median: {median_value:.1f}')\n",
    "plt.axvline(mode_value, color='blue', linestyle=':', linewidth=2, label=f'Mode: {mode_value}')\n",
    "\n",
    "plt.title('Distribution with Measures of Central Tendency')\n",
    "plt.xlabel('Value')\n",
    "plt.ylabel('Frequency')\n",
    "plt.legend()\n",
    "plt.show()"
   ]
  },
  {
   "cell_type": "code",
   "execution_count": null,
   "id": "09f6f56e-66cc-4177-8c56-f38dcaf51b0f",
   "metadata": {},
   "outputs": [],
   "source": []
  }
 ],
 "metadata": {
  "kernelspec": {
   "display_name": "Python 3 (ipykernel)",
   "language": "python",
   "name": "python3"
  },
  "language_info": {
   "codemirror_mode": {
    "name": "ipython",
    "version": 3
   },
   "file_extension": ".py",
   "mimetype": "text/x-python",
   "name": "python",
   "nbconvert_exporter": "python",
   "pygments_lexer": "ipython3",
   "version": "3.12.9"
  }
 },
 "nbformat": 4,
 "nbformat_minor": 5
}
